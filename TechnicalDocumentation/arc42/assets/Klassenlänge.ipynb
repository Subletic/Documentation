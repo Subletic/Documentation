{
 "cells": [
  {
   "cell_type": "markdown",
   "metadata": {},
   "source": [
    "# Klassenlänge"
   ]
  },
  {
   "cell_type": "code",
   "execution_count": 7,
   "metadata": {},
   "outputs": [
    {
     "name": "stdout",
     "output_type": "stream",
     "text": [
      "avg: 125.77\n",
      "min: 32\n",
      "max: 338\n"
     ]
    }
   ],
   "source": [
    "\n",
    "import os\n",
    "\n",
    "path_prefix = \"../../../../backend/Backend/\"\n",
    "\n",
    "folders = [\"Controllers\", \"Data\", \"Hubs\", \"Services\"]\n",
    "# calculate the number of lines in .cs files that contain the word \"class\" in the path and every subfolder and save the value in a list\n",
    "\n",
    "lines = []\n",
    "names = []\n",
    "\n",
    "def count_lines(path):\n",
    "    for filename in os.listdir(path):\n",
    "        if filename.endswith(\".cs\"):\n",
    "            with open(path + \"/\" + filename, \"r\") as f:\n",
    "                isClass = False\n",
    "                counter = 0\n",
    "                for line in f:\n",
    "                    counter += 1\n",
    "                    if \"class\" in line:\n",
    "                        isClass = True\n",
    "                if isClass:\n",
    "                    lines.append(counter)\n",
    "                    names.append(filename[:-3])\n",
    "\n",
    "# Do count_lines for every file in every subfolder\n",
    "def count_lines_in_subfolders(path_prefix):\n",
    "    for folder in folders:\n",
    "        count_lines(path_prefix + folder)\n",
    "\n",
    "count_lines_in_subfolders(path_prefix)\n",
    "\n",
    "\n",
    "print(\"avg: \" + str(round(sum(lines) / len(lines), 2)))\n",
    "print(\"min: \" + str(min(lines)))\n",
    "print(\"max: \" + str(max(lines)))"
   ]
  },
  {
   "cell_type": "code",
   "execution_count": 8,
   "metadata": {},
   "outputs": [],
   "source": [
    "# save in file\n",
    "with open(\"LOC_per_Class.csv\", \"w\") as f:\n",
    "    f.write(\"\")\n",
    "\n",
    "for i in range(len(lines)):\n",
    "    line =  str(lines[i]) + \",\" +  names[i] + \"\\n\"\n",
    "    with open(\"LOC_per_Class.csv\", \"a\") as f:\n",
    "        f.write(line)"
   ]
  },
  {
   "cell_type": "code",
   "execution_count": 9,
   "metadata": {},
   "outputs": [
    {
     "data": {
      "image/png": "[encoded data removed]",
      "text/plain": [
       "<Figure size 640x480 with 1 Axes>"
      ]
     },
     "metadata": {},
     "output_type": "display_data"
    }
   ],
   "source": [
    "# boxplot of the lines per class\n",
    "import matplotlib.pyplot as plt\n",
    "import numpy as np\n",
    "\n",
    "plt.boxplot(lines)\n",
    "plt.ylabel(\"Lines of Code\")\n",
    "plt.savefig(\"LOC_per_Class.png\")\n",
    "plt.show()"
   ]
  }
 ],
 "metadata": {
  "kernelspec": {
   "display_name": ".venv",
   "language": "python",
   "name": "python3"
  },
  "language_info": {
   "codemirror_mode": {
    "name": "ipython",
    "version": 3
   },
   "file_extension": ".py",
   "mimetype": "text/x-python",
   "name": "python",
   "nbconvert_exporter": "python",
   "pygments_lexer": "ipython3",
   "version": "3.12.1"
  }
 },
 "nbformat": 4,
 "nbformat_minor": 2
}
